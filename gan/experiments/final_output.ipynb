{
 "cells": [
  {
   "cell_type": "code",
   "execution_count": 11,
   "metadata": {
    "collapsed": true,
    "pycharm": {
     "name": "#%%\n"
    }
   },
   "outputs": [],
   "source": [
    "import tensorflow as tf\n",
    "from lib.utils import model ,preproc, newBuild, newGan, sampling , results\n",
    "from keras.preprocessing.image import ImageDataGenerator\n",
    "from IPython import display\n",
    "import os"
   ]
  },
  {
   "cell_type": "code",
   "execution_count": 12,
   "outputs": [],
   "source": [
    "res = 256\n",
    "channel = 3\n",
    "# Preprocessing data with custom function\n",
    "batch_size = 4\n",
    "img_shape = (res,res,channel)\n",
    "epochs = 300\n",
    "latent_dim = 150\n",
    "n_images = 16\n",
    "image_dir = \"../oDig/mixed_port_256/\"\n",
    "output_dir = \"../oDig/mixed_port_256/output/\"\n",
    "checkpoint_dir = \"../checkpoints/mixed_port_256_check/\"\n",
    "data_loc = \"../../datasets/mixed_port/\"\n",
    "#data_loc = \"../../datasets/celeb/\"\n",
    "image_freq = 100\n",
    "s = tf.random.normal([n_images, latent_dim]),\n",
    "checkpoint_freq = 100"
   ],
   "metadata": {
    "collapsed": false,
    "pycharm": {
     "name": "#%%\n"
    }
   }
  },
  {
   "cell_type": "code",
   "execution_count": 14,
   "outputs": [],
   "source": [
    "constants = dict(\n",
    "    num_conv_layers=4,\n",
    "    img_shape=img_shape,\n",
    "    dim=16,\n",
    "    output=channel,\n",
    "    latent_dim=latent_dim,\n",
    "    kernel=4,\n",
    "    stride=2\n",
    ")\n",
    "callback = dict(\n",
    "    num_img=n_images,\n",
    "    cFreq=checkpoint_freq,\n",
    "    iFreq=image_freq,\n",
    "    seed=s,\n",
    "    loc=image_dir\n",
    ")\n",
    "gan_attributes = dict(\n",
    "    check_location=checkpoint_dir,\n",
    "    b_size=batch_size,\n",
    "    l_dim=latent_dim,\n",
    "    epochs=epochs,\n",
    ")\n",
    "name = 'Model_1-Same-Tanh-Batch-mDrop'\n",
    "parameters = dict(\n",
    "    model_name=name,\n",
    "    filter_mode=3,\n",
    "    gen_filter=7,\n",
    "    disc_filter=6,\n",
    "    is_batchnorm=True,\n",
    "    is_multi_drop=True,\n",
    "    is_tanh=True\n",
    ")"
   ],
   "metadata": {
    "collapsed": false,
    "pycharm": {
     "name": "#%%\n"
    }
   }
  },
  {
   "cell_type": "code",
   "execution_count": 15,
   "outputs": [
    {
     "name": "stdout",
     "output_type": "stream",
     "text": [
      "Model: \"generator\"\n",
      "_________________________________________________________________\n",
      " Layer (type)                Output Shape              Param #   \n",
      "=================================================================\n",
      " input_3 (InputLayer)        [(None, 150)]             0         \n",
      "                                                                 \n",
      " dense_2 (Dense)             (None, 32768)             4947968   \n",
      "                                                                 \n",
      " batch_normalization_13 (Bat  (None, 32768)            131072    \n",
      " chNormalization)                                                \n",
      "                                                                 \n",
      " leaky_re_lu_13 (LeakyReLU)  (None, 32768)             0         \n",
      "                                                                 \n",
      " reshape_1 (Reshape)         (None, 16, 16, 128)       0         \n",
      "                                                                 \n",
      " conv2d_transpose_5 (Conv2DT  (None, 32, 32, 128)      262272    \n",
      " ranspose)                                                       \n",
      "                                                                 \n",
      " batch_normalization_9 (Batc  (None, 32, 32, 128)      512       \n",
      " hNormalization)                                                 \n",
      "                                                                 \n",
      " leaky_re_lu_9 (LeakyReLU)   (None, 32, 32, 128)       0         \n",
      "                                                                 \n",
      " conv2d_transpose_6 (Conv2DT  (None, 64, 64, 128)      262272    \n",
      " ranspose)                                                       \n",
      "                                                                 \n",
      " batch_normalization_10 (Bat  (None, 64, 64, 128)      512       \n",
      " chNormalization)                                                \n",
      "                                                                 \n",
      " leaky_re_lu_10 (LeakyReLU)  (None, 64, 64, 128)       0         \n",
      "                                                                 \n",
      " conv2d_transpose_7 (Conv2DT  (None, 128, 128, 128)    262272    \n",
      " ranspose)                                                       \n",
      "                                                                 \n",
      " batch_normalization_11 (Bat  (None, 128, 128, 128)    512       \n",
      " chNormalization)                                                \n",
      "                                                                 \n",
      " leaky_re_lu_11 (LeakyReLU)  (None, 128, 128, 128)     0         \n",
      "                                                                 \n",
      " conv2d_transpose_8 (Conv2DT  (None, 256, 256, 128)    262272    \n",
      " ranspose)                                                       \n",
      "                                                                 \n",
      " batch_normalization_12 (Bat  (None, 256, 256, 128)    512       \n",
      " chNormalization)                                                \n",
      "                                                                 \n",
      " leaky_re_lu_12 (LeakyReLU)  (None, 256, 256, 128)     0         \n",
      "                                                                 \n",
      " conv2d_transpose_9 (Conv2DT  (None, 256, 256, 3)      6147      \n",
      " ranspose)                                                       \n",
      "                                                                 \n",
      "=================================================================\n",
      "Total params: 6,136,323\n",
      "Trainable params: 6,069,763\n",
      "Non-trainable params: 66,560\n",
      "_________________________________________________________________\n",
      "Model: \"discriminator\"\n",
      "_________________________________________________________________\n",
      " Layer (type)                Output Shape              Param #   \n",
      "=================================================================\n",
      " input_4 (InputLayer)        [(None, 256, 256, 3)]     0         \n",
      "                                                                 \n",
      " conv2d_5 (Conv2D)           (None, 128, 128, 64)      3136      \n",
      "                                                                 \n",
      " batch_normalization_17 (Bat  (None, 128, 128, 64)     256       \n",
      " chNormalization)                                                \n",
      "                                                                 \n",
      " leaky_re_lu_17 (LeakyReLU)  (None, 128, 128, 64)      0         \n",
      "                                                                 \n",
      " dropout_7 (Dropout)         (None, 128, 128, 64)      0         \n",
      "                                                                 \n",
      " conv2d_3 (Conv2D)           (None, 64, 64, 64)        65600     \n",
      "                                                                 \n",
      " batch_normalization_14 (Bat  (None, 64, 64, 64)       256       \n",
      " chNormalization)                                                \n",
      "                                                                 \n",
      " leaky_re_lu_14 (LeakyReLU)  (None, 64, 64, 64)        0         \n",
      "                                                                 \n",
      " dropout_4 (Dropout)         (None, 64, 64, 64)        0         \n",
      "                                                                 \n",
      " conv2d_4 (Conv2D)           (None, 32, 32, 64)        65600     \n",
      "                                                                 \n",
      " batch_normalization_15 (Bat  (None, 32, 32, 64)       256       \n",
      " chNormalization)                                                \n",
      "                                                                 \n",
      " leaky_re_lu_15 (LeakyReLU)  (None, 32, 32, 64)        0         \n",
      "                                                                 \n",
      " dropout_5 (Dropout)         (None, 32, 32, 64)        0         \n",
      "                                                                 \n",
      " flatten_1 (Flatten)         (None, 65536)             0         \n",
      "                                                                 \n",
      " dense_3 (Dense)             (None, 1)                 65537     \n",
      "                                                                 \n",
      "=================================================================\n",
      "Total params: 200,641\n",
      "Trainable params: 200,257\n",
      "Non-trainable params: 384\n",
      "_________________________________________________________________\n",
      "Checkpoint restored\n"
     ]
    }
   ],
   "source": [
    "model1 = model.ModelSettings(**constants, **parameters)"
   ],
   "metadata": {
    "collapsed": false,
    "pycharm": {
     "name": "#%%\n"
    }
   }
  },
  {
   "cell_type": "code",
   "execution_count": 16,
   "outputs": [],
   "source": [
    "gen = model.build_generator(model1)"
   ],
   "metadata": {
    "collapsed": false,
    "pycharm": {
     "name": "#%%\n"
    }
   }
  },
  {
   "cell_type": "code",
   "execution_count": 17,
   "outputs": [],
   "source": [
    "dir = f\"{name}\"\n",
    "parent = checkpoint_dir\n",
    "check_dir = os.path.join(parent,dir)"
   ],
   "metadata": {
    "collapsed": false,
    "pycharm": {
     "name": "#%%\n"
    }
   }
  },
  {
   "cell_type": "code",
   "execution_count": 18,
   "outputs": [],
   "source": [
    "checkpoint = tf.train.Checkpoint(generator=gen)\n",
    "ckpt_manager = tf.train.CheckpointManager(checkpoint, check_dir, max_to_keep=5)\n",
    "if ckpt_manager.latest_checkpoint:\n",
    "    checkpoint.restore(ckpt_manager.latest_checkpoint).expect_partial()\n",
    "    print('Checkpoint restored')"
   ],
   "metadata": {
    "collapsed": false,
    "pycharm": {
     "name": "#%%\n"
    }
   }
  },
  {
   "cell_type": "code",
   "execution_count": 19,
   "outputs": [],
   "source": [
    " for i in range(100):\n",
    "    latent_p = results.generate_sample(150, 25)\n",
    "    X = gen.predict(latent_p)\n",
    "    display.clear_output(wait=True)\n",
    "    sampling.plot_results(X, output_dir, i)"
   ],
   "metadata": {
    "collapsed": false,
    "pycharm": {
     "name": "#%%\n"
    }
   }
  },
  {
   "cell_type": "code",
   "execution_count": null,
   "outputs": [],
   "source": [],
   "metadata": {
    "collapsed": false,
    "pycharm": {
     "name": "#%%\n"
    }
   }
  }
 ],
 "metadata": {
  "kernelspec": {
   "display_name": "Python 3",
   "language": "python",
   "name": "python3"
  },
  "language_info": {
   "codemirror_mode": {
    "name": "ipython",
    "version": 2
   },
   "file_extension": ".py",
   "mimetype": "text/x-python",
   "name": "python",
   "nbconvert_exporter": "python",
   "pygments_lexer": "ipython2",
   "version": "2.7.6"
  }
 },
 "nbformat": 4,
 "nbformat_minor": 0
}